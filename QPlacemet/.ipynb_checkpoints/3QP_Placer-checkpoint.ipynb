{
 "cells": [
  {
   "cell_type": "code",
   "execution_count": 1,
   "id": "d8c64765",
   "metadata": {},
   "outputs": [],
   "source": [
    "import numpy as np\n",
    "from scipy.sparse import coo_matrix\n",
    "from scipy.sparse.linalg import spsolve\n",
    "import matplotlib.pyplot as plt"
   ]
  },
  {
   "cell_type": "markdown",
   "id": "659dd33d",
   "metadata": {},
   "source": [
    "# 1. Input"
   ]
  },
  {
   "cell_type": "code",
   "execution_count": 2,
   "id": "e00a7e6a",
   "metadata": {},
   "outputs": [],
   "source": [
    "file_name = 'data/toy1'\n",
    "with open(file_name) as file:\n",
    "    content = file.read()\n",
    "content = content.strip()\n",
    "lines = content.split('\\n')"
   ]
  },
  {
   "cell_type": "markdown",
   "id": "72e551ee",
   "metadata": {},
   "source": [
    "对权重为1的情况\n",
    "- 矩阵是G×G维度\n",
    "- 非对角元有线就是-1没线就是0\n",
    "- 对角元是该点连线的个数"
   ]
  },
  {
   "cell_type": "code",
   "execution_count": 3,
   "id": "3afc82b5",
   "metadata": {},
   "outputs": [],
   "source": [
    "line_0 = lines[0].split() # NumberofGates G and NumberofNets N\n",
    "G = int(line_0[0]) # Gates 的数量\n",
    "N = int(line_0[1]) # Nets 的数量\n",
    "P = int(lines[G+1].split()[0]) # 存入Number of pads P connected to nets"
   ]
  },
  {
   "cell_type": "markdown",
   "id": "f8d1567a",
   "metadata": {},
   "source": [
    "对每一个net，找他对应的gate，这些gate之间取-1，dia_row和dia_col为gate_num\n",
    "\n",
    "eg. 对net#1 有gate#2 gate#3 ，则dia_row = 2 dia_col = 3。并且交换一次dia_row = 3 dia_col = 2"
   ]
  },
  {
   "cell_type": "code",
   "execution_count": 4,
   "id": "fd420739",
   "metadata": {},
   "outputs": [],
   "source": [
    "class Nets_gatepad:\n",
    "    def __init__(self, net_num, gates, pads):\n",
    "        self.net_num = net_num\n",
    "        self.gates = gates\n",
    "        self.pads = pads"
   ]
  },
  {
   "cell_type": "markdown",
   "id": "cbdccd03",
   "metadata": {},
   "source": [
    "取所有组合"
   ]
  },
  {
   "cell_type": "code",
   "execution_count": 5,
   "id": "ee33b822",
   "metadata": {},
   "outputs": [],
   "source": [
    "def combination(net_gates):\n",
    "    gate_combine = []\n",
    "    for i in range(len(net_gates)):\n",
    "        for j in range(i+1, len(net_gates)):\n",
    "            gate_combine = np.append(gate_combine, [net_gates[i], net_gates[j]])\n",
    "    return gate_combine"
   ]
  },
  {
   "cell_type": "code",
   "execution_count": 6,
   "id": "5fc2be09",
   "metadata": {},
   "outputs": [],
   "source": [
    "dia_val = np.array([]) # 存储对角线上的元素\n",
    "net_gatepad = np.array([]) # 用net_gate储存每个net对应的gate\n",
    "\n",
    "for i in range(N):\n",
    "    net_gatepad = np.append(net_gatepad, Nets_gatepad(i,[], [])) # 初始化net_gate，其gates和pads都为空"
   ]
  },
  {
   "cell_type": "code",
   "execution_count": 7,
   "id": "d5ed394d",
   "metadata": {},
   "outputs": [],
   "source": [
    "# 存储gate\n",
    "for num_gate in range(G):\n",
    "    line = lines[num_gate+1].split()\n",
    "    nets = line[2:]\n",
    "    for net in nets:\n",
    "        net_gatepad[int(net)-1].gates = np.append(net_gatepad[int(net)-1].gates, num_gate) # 将gates的信息写入net_gate\n",
    "    \n",
    "dia_val = np.zeros(G) # 对角元\n",
    "    \n",
    "dia_row = np.arange(G)\n",
    "dia_col = np.arange(G)\n",
    "C = coo_matrix((dia_val, (dia_row, dia_col)), shape=(G, G))\n",
    "\n",
    "# 存储pad\n",
    "\n",
    "x_pin = []\n",
    "y_pin = []\n",
    "\n",
    "for num_pad in range(P):\n",
    "    line = lines[G+2+num_pad].split()\n",
    "    net = line[1]\n",
    "    net_gatepad[int(net)-1].pads = np.append(net_gatepad[int(net)-1].pads, num_pad) # 将pads的信息写入net_gatepad\n",
    "    \n",
    "    x_pin = np.append(x_pin, float(line[2])) # pad的坐标\n",
    "    y_pin = np.append(y_pin, float(line[3]))\n",
    "\n",
    "# 非对角元\n",
    "combine = np.array([])\n",
    "\n",
    "for i in range(N):\n",
    "    net_gates = net_gatepad[i].gates\n",
    "    if len(net_gates) > 1:\n",
    "        combine = np.append(combine, combination(net_gates))\n",
    "combine = combine.reshape(-1,2)\n",
    "\n",
    "# 写入非对角元\n",
    "for add_ele in combine:\n",
    "    C +=  coo_matrix(([1,1], ([add_ele[0],add_ele[1]], [add_ele[1], add_ele[0]])), shape=(G, G))"
   ]
  },
  {
   "cell_type": "code",
   "execution_count": 8,
   "id": "be1d3418",
   "metadata": {},
   "outputs": [],
   "source": [
    "dia_row = np.arange(G)\n",
    "dia_col = np.arange(G)\n",
    "dia_val_sum = C.sum(axis=1)\n",
    "dia_vals = np.array([])\n",
    "for dia_val in dia_val_sum:\n",
    "    dia_vals = np.append(dia_vals, dia_val)\n",
    "A_dia_gates = coo_matrix((dia_vals, (dia_row, dia_col)), shape=(G, G))"
   ]
  },
  {
   "cell_type": "code",
   "execution_count": 9,
   "id": "9e3f50d9",
   "metadata": {
    "scrolled": false
   },
   "outputs": [],
   "source": [
    "b_x = np.zeros(G)\n",
    "b_y = np.zeros(G)\n",
    "\n",
    "dia_vals = np.array([])\n",
    "dia_row = np.array([])\n",
    "dia_col = np.array([])\n",
    "\n",
    "w = 1\n",
    "\n",
    "for i in range(N):\n",
    "    net_pads = net_gatepad[i].pads\n",
    "    if len(net_pads) > 0:\n",
    "        net_gates = net_gatepad[i].gates\n",
    "        for net_gate in net_gates:\n",
    "            b_x[int(net_gate)] = x_pin[int(net_pads)] * w\n",
    "            b_y[int(net_gate)] = y_pin[int(net_pads)] * w\n",
    "            \n",
    "            dia_vals = np.append(dia_vals, w)\n",
    "            dia_row = np.append(dia_row, net_gate)\n",
    "            dia_col = np.append(dia_col, net_gate)\n",
    "A_dia_pads = coo_matrix((dia_vals, (dia_row, dia_col)), shape=(G, G))"
   ]
  },
  {
   "cell_type": "code",
   "execution_count": 10,
   "id": "9e380679",
   "metadata": {},
   "outputs": [],
   "source": [
    "A = A_dia_gates + A_dia_pads - C"
   ]
  },
  {
   "cell_type": "markdown",
   "id": "e6f271b1",
   "metadata": {},
   "source": [
    "# 2. QP1"
   ]
  },
  {
   "cell_type": "code",
   "execution_count": 11,
   "id": "4d6fe696",
   "metadata": {},
   "outputs": [],
   "source": [
    "x = spsolve(A.tocsr(), b_x)\n",
    "y = spsolve(A.tocsr(), b_y)"
   ]
  },
  {
   "cell_type": "markdown",
   "id": "a8e9be61",
   "metadata": {},
   "source": [
    "# 3. Assignment:"
   ]
  },
  {
   "cell_type": "code",
   "execution_count": 12,
   "id": "21f6f113",
   "metadata": {},
   "outputs": [
    {
     "data": {
      "text/plain": [
       "array([32.96731222, 24.92125312, 49.84250624, 35.19034914, 36.68447394,\n",
       "       31.68343882, 34.21488507, 23.90193665, 30.95699555, 34.02772166,\n",
       "       36.57919281, 38.52339677, 33.72833101, 43.47485897, 39.44285818,\n",
       "       42.20124242, 43.08301675, 39.00701892])"
      ]
     },
     "execution_count": 12,
     "metadata": {},
     "output_type": "execute_result"
    }
   ],
   "source": [
    "x"
   ]
  },
  {
   "cell_type": "code",
   "execution_count": 13,
   "id": "24411aae",
   "metadata": {
    "scrolled": true
   },
   "outputs": [],
   "source": [
    "x_left_index = x.argsort()[:G//2]\n",
    "x_right_index = x.argsort()[G//2:]"
   ]
  },
  {
   "cell_type": "code",
   "execution_count": 14,
   "id": "ed712a77",
   "metadata": {},
   "outputs": [
    {
     "data": {
      "text/plain": [
       "array([ 7,  1,  8,  5,  0, 12,  9,  6,  3])"
      ]
     },
     "execution_count": 14,
     "metadata": {},
     "output_type": "execute_result"
    }
   ],
   "source": [
    "x_left_index"
   ]
  },
  {
   "cell_type": "code",
   "execution_count": 15,
   "id": "05a6bf84",
   "metadata": {},
   "outputs": [
    {
     "data": {
      "text/plain": [
       "array([10,  4, 11, 17, 14, 15, 16, 13,  2])"
      ]
     },
     "execution_count": 15,
     "metadata": {},
     "output_type": "execute_result"
    }
   ],
   "source": [
    "x_right_index"
   ]
  },
  {
   "cell_type": "markdown",
   "id": "0aee9990",
   "metadata": {},
   "source": [
    "# 4. Left‐side containment step:"
   ]
  },
  {
   "cell_type": "code",
   "execution_count": 58,
   "id": "b5889677",
   "metadata": {},
   "outputs": [],
   "source": [
    "connections = []\n",
    "for connection in combine:\n",
    "    check_1 = (connection[0] in x_left_index) and (connection[1] in x_right_index) \n",
    "    check_2 = (connection[0] in x_right_index) and (connection[1] in x_left_index) \n",
    "    if check_1 or check_2:            \n",
    "        connections = np.append(connections, connection)"
   ]
  },
  {
   "cell_type": "code",
   "execution_count": 59,
   "id": "29678a31",
   "metadata": {},
   "outputs": [
    {
     "data": {
      "text/plain": [
       "array([[ 1.,  2.],\n",
       "       [ 3.,  4.],\n",
       "       [ 4.,  6.],\n",
       "       [ 3.,  4.],\n",
       "       [ 4.,  5.],\n",
       "       [ 3.,  4.],\n",
       "       [ 9., 10.],\n",
       "       [ 9., 17.],\n",
       "       [10., 12.],\n",
       "       [12., 17.],\n",
       "       [ 9., 17.]])"
      ]
     },
     "execution_count": 59,
     "metadata": {},
     "output_type": "execute_result"
    }
   ],
   "source": [
    "connections.reshape(-1,2)"
   ]
  },
  {
   "cell_type": "code",
   "execution_count": 17,
   "id": "58b4abea",
   "metadata": {},
   "outputs": [],
   "source": [
    "output = np.vstack((np.arange(G)+1,x,y)).T\n",
    "np.savetxt('output.txt',output,fmt='%0.8f')"
   ]
  },
  {
   "cell_type": "code",
   "execution_count": 18,
   "id": "78802e01",
   "metadata": {},
   "outputs": [],
   "source": [
    "benchmark = np.loadtxt('data/benchmark')\n",
    "x_benchmark = benchmark[:,1]\n",
    "y_benchmark = benchmark[:,2]"
   ]
  },
  {
   "cell_type": "code",
   "execution_count": 19,
   "id": "1c952e71",
   "metadata": {},
   "outputs": [
    {
     "data": {
      "image/png": "[encoded data removed]",
      "text/plain": [
       "<Figure size 432x432 with 1 Axes>"
      ]
     },
     "metadata": {
      "needs_background": "light"
     },
     "output_type": "display_data"
    }
   ],
   "source": [
    "plt.figure(figsize=(6,6))\n",
    "plt.scatter(x_benchmark, y_benchmark)\n",
    "\n",
    "plt.scatter(x_pin, y_pin, s=300, marker='s')\n",
    "\n",
    "plt.xlim(0,100)\n",
    "plt.ylim(0,100)\n",
    "\n",
    "plt.grid()\n",
    "plt.show()"
   ]
  },
  {
   "cell_type": "code",
   "execution_count": 20,
   "id": "a176340a",
   "metadata": {},
   "outputs": [
    {
     "data": {
      "image/png": "[encoded data removed]",
      "text/plain": [
       "<Figure size 432x432 with 1 Axes>"
      ]
     },
     "metadata": {
      "needs_background": "light"
     },
     "output_type": "display_data"
    }
   ],
   "source": [
    "plt.figure(figsize=(6,6))\n",
    "plt.scatter(x, y)\n",
    "\n",
    "plt.scatter(x_pin, y_pin, s=300, marker='s')\n",
    "\n",
    "plt.xlim(0,100)\n",
    "plt.ylim(0,100)\n",
    "\n",
    "plt.grid()\n",
    "plt.show()"
   ]
  },
  {
   "cell_type": "code",
   "execution_count": null,
   "id": "9f37b354",
   "metadata": {},
   "outputs": [],
   "source": []
  }
 ],
 "metadata": {
  "kernelspec": {
   "display_name": "Python 3.8.8 64-bit ('base': conda)",
   "language": "python",
   "name": "python388jvsc74a57bd040d3a090f54c6569ab1632332b64b2c03c39dcf918b08424e98f38b5ae0af88f"
  },
  "language_info": {
   "codemirror_mode": {
    "name": "ipython",
    "version": 3
   },
   "file_extension": ".py",
   "mimetype": "text/x-python",
   "name": "python",
   "nbconvert_exporter": "python",
   "pygments_lexer": "ipython3",
   "version": "3.8.8"
  }
 },
 "nbformat": 4,
 "nbformat_minor": 5
}
