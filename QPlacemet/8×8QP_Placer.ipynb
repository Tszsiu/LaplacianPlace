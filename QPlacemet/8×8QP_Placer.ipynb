{
 "cells": [
  {
   "cell_type": "code",
   "execution_count": 1,
   "id": "d8c64765",
   "metadata": {},
   "outputs": [],
   "source": [
    "import numpy as np\n",
    "import QP_placer.input_data as input_data\n",
    "import QP_placer.connection as connection\n",
    "import QP_placer.placement as placement\n",
    "import QP_placer.plot_gate_pin as plot_gate_pin\n",
    "import QP_placer.assignment as assignment\n",
    "import QP_placer.containment as containment"
   ]
  },
  {
   "cell_type": "markdown",
   "id": "436d2a49",
   "metadata": {},
   "source": [
    "# 1. Input"
   ]
  },
  {
   "cell_type": "code",
   "execution_count": 2,
   "id": "e00a7e6a",
   "metadata": {},
   "outputs": [],
   "source": [
    "file_name = 'data/toy1' # 输入文件名\n",
    "# 从文件中读取：1，Gate，Net，Pad的个数，2.pin的坐标，3.一种特殊的数据结构用来存储连接关系\n",
    "index_GNP, pin_index, nets_gatepad = input_data.input_data(file_name)"
   ]
  },
  {
   "cell_type": "markdown",
   "id": "3ffa1272",
   "metadata": {},
   "source": [
    "# 2. QP1"
   ]
  },
  {
   "cell_type": "markdown",
   "id": "49a87cbf",
   "metadata": {},
   "source": [
    "### 利用数据结构，得到pin和gate的连接矩阵B，gate之间的连接矩阵C\n",
    "#### B和C都是coo matrix结构(稀疏矩阵)"
   ]
  },
  {
   "cell_type": "code",
   "execution_count": 3,
   "id": "aa318029",
   "metadata": {},
   "outputs": [],
   "source": [
    "B, C = connection.connection(index_GNP, nets_gatepad) # B[num_gate][num_pin]"
   ]
  },
  {
   "cell_type": "markdown",
   "id": "8198217e",
   "metadata": {},
   "source": [
    "### 求解gate的坐标"
   ]
  },
  {
   "cell_type": "code",
   "execution_count": 4,
   "id": "f1d4b4d1",
   "metadata": {},
   "outputs": [],
   "source": [
    "gate_index = placement.placement(index_GNP, B, C, pin_index)\n",
    "gate_qp1 = gate_index"
   ]
  },
  {
   "cell_type": "code",
   "execution_count": 5,
   "id": "9d79f24d",
   "metadata": {},
   "outputs": [
    {
     "data": {
      "image/png": "[encoded data removed]",
      "text/plain": [
       "<Figure size 432x432 with 1 Axes>"
      ]
     },
     "metadata": {
      "needs_background": "light"
     },
     "output_type": "display_data"
    }
   ],
   "source": [
    "plot_gate_pin.plot_gate_pin(pin_index, gate_index)"
   ]
  },
  {
   "cell_type": "markdown",
   "id": "62298ad1",
   "metadata": {},
   "source": [
    "# 3. Assignment:"
   ]
  },
  {
   "cell_type": "code",
   "execution_count": 6,
   "id": "88034c20",
   "metadata": {},
   "outputs": [],
   "source": [
    "[num_gate_left, num_gate_right] = assignment.assignment(index_GNP, gate_index)"
   ]
  },
  {
   "cell_type": "markdown",
   "id": "95f475a5",
   "metadata": {},
   "source": [
    "# 4. Left‐side containment step:"
   ]
  },
  {
   "cell_type": "code",
   "execution_count": 7,
   "id": "411d4ee2",
   "metadata": {},
   "outputs": [],
   "source": [
    "sign = 'left'\n",
    "[index_GNP_left, B_left, C_left, pin_index_left] =\\\n",
    "    containment.containment(sign, index_GNP, num_gate_left, num_gate_right, gate_index, pin_index, C, B)"
   ]
  },
  {
   "cell_type": "markdown",
   "id": "23308978",
   "metadata": {},
   "source": [
    "# 5. QP2—Second Quadratic Placement:"
   ]
  },
  {
   "cell_type": "code",
   "execution_count": 8,
   "id": "73f33a13",
   "metadata": {},
   "outputs": [],
   "source": [
    "gate_index_left = placement.placement(index_GNP_left, B_left, C_left, pin_index_left)"
   ]
  },
  {
   "cell_type": "markdown",
   "id": "d0037ba8",
   "metadata": {},
   "source": [
    "### 更新左侧的坐标"
   ]
  },
  {
   "cell_type": "code",
   "execution_count": 9,
   "id": "ae780e90",
   "metadata": {},
   "outputs": [],
   "source": [
    "gate_index[:,num_gate_left] = gate_index_left"
   ]
  },
  {
   "cell_type": "code",
   "execution_count": 10,
   "id": "49c6733e",
   "metadata": {},
   "outputs": [
    {
     "data": {
      "image/png": "[encoded data removed]",
      "text/plain": [
       "<Figure size 432x432 with 1 Axes>"
      ]
     },
     "metadata": {
      "needs_background": "light"
     },
     "output_type": "display_data"
    }
   ],
   "source": [
    "plot_gate_pin.plot_gate_pin(pin_index, gate_index)"
   ]
  },
  {
   "cell_type": "markdown",
   "id": "5ca74178",
   "metadata": {},
   "source": [
    "# 6. Right--­side containment step:"
   ]
  },
  {
   "cell_type": "code",
   "execution_count": 11,
   "id": "ea47d1a3",
   "metadata": {},
   "outputs": [],
   "source": [
    "sign = 'right'\n",
    "[index_GNP_right, B_right, C_right, pin_index_right] = \\\n",
    "    containment.containment(sign, index_GNP, num_gate_left, num_gate_right, gate_index, pin_index, C, B)"
   ]
  },
  {
   "cell_type": "markdown",
   "id": "43cb11d2",
   "metadata": {},
   "source": [
    "# 7. QP3—Third Quadratic Placement:"
   ]
  },
  {
   "cell_type": "code",
   "execution_count": 12,
   "id": "c9f26c1c",
   "metadata": {},
   "outputs": [],
   "source": [
    "gate_index_right = placement.placement(index_GNP_right, B_right, C_right, pin_index_right)"
   ]
  },
  {
   "cell_type": "markdown",
   "id": "d0037ba8",
   "metadata": {},
   "source": [
    "### 更新右侧的坐标"
   ]
  },
  {
   "cell_type": "code",
   "execution_count": 13,
   "id": "ae780e90",
   "metadata": {},
   "outputs": [],
   "source": [
    "gate_index[:,num_gate_right] = gate_index_right"
   ]
  },
  {
   "cell_type": "code",
   "execution_count": 14,
   "id": "52843bb0",
   "metadata": {},
   "outputs": [
    {
     "data": {
      "image/png": "[encoded data removed]",
      "text/plain": [
       "<Figure size 432x432 with 1 Axes>"
      ]
     },
     "metadata": {
      "needs_background": "light"
     },
     "output_type": "display_data"
    }
   ],
   "source": [
    "plot_gate_pin.plot_gate_pin(pin_index, gate_index)"
   ]
  },
  {
   "cell_type": "markdown",
   "id": "4e8d1df9",
   "metadata": {},
   "source": [
    "# result"
   ]
  },
  {
   "cell_type": "code",
   "execution_count": 15,
   "id": "937296fc",
   "metadata": {},
   "outputs": [],
   "source": [
    "[G, N, P] = index_GNP\n",
    "x_gate = gate_index[0]\n",
    "y_gate = gate_index[1]"
   ]
  },
  {
   "cell_type": "code",
   "execution_count": 16,
   "id": "0a4ef716",
   "metadata": {},
   "outputs": [],
   "source": [
    "output = np.vstack((np.arange(G)+1, x_gate, y_gate)).T\n",
    "np.savetxt('output.txt',output,fmt='%0.8f')"
   ]
  },
  {
   "cell_type": "code",
   "execution_count": null,
   "id": "8e4dbd14",
   "metadata": {},
   "outputs": [],
   "source": []
  }
 ],
 "metadata": {
  "interpreter": {
   "hash": "31f2aee4e71d21fbe5cf8b01ff0e069b9275f58929596ceb00d14d90e3e16cd6"
  },
  "kernelspec": {
   "display_name": "Python 3.8.8 64-bit ('base': conda)",
   "language": "python",
   "name": "python3"
  },
  "language_info": {
   "codemirror_mode": {
    "name": "ipython",
    "version": 3
   },
   "file_extension": ".py",
   "mimetype": "text/x-python",
   "name": "python",
   "nbconvert_exporter": "python",
   "pygments_lexer": "ipython3",
   "version": "3.8.8"
  }
 },
 "nbformat": 4,
 "nbformat_minor": 5
}
