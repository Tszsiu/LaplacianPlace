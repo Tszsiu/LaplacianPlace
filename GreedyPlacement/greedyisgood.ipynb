{
 "cells": [
  {
   "cell_type": "code",
   "execution_count": 1,
   "metadata": {},
   "outputs": [],
   "source": [
    "import numpy as np\n",
    "import matplotlib.pyplot as plt\n",
    "from collections import deque"
   ]
  },
  {
   "cell_type": "code",
   "execution_count": 2,
   "metadata": {},
   "outputs": [],
   "source": [
    "def bfs(grid, start, weight, height):\n",
    "    queue = deque([start])\n",
    "    visited = set()\n",
    "    directions = [(0, 1), (0, -1), (1, 0), (-1, 0)]\n",
    "\n",
    "    while queue:\n",
    "        x, y = queue.popleft()\n",
    "        visited.add((x, y))\n",
    "\n",
    "        if check_submatrix(grid, x, y, weight, height):\n",
    "            return (x, y)\n",
    "\n",
    "        for dx, dy in directions:\n",
    "            new_x, new_y = x + dx, y + dy\n",
    "\n",
    "            if 0 <= new_x < grid.shape[0] and 0 <= new_y < grid.shape[1] and (new_x, new_y) not in visited:\n",
    "                queue.append((new_x, new_y))\n",
    "                visited.add((new_x, new_y))\n",
    "\n",
    "    return None\n",
    "\n",
    "def check_submatrix(grid, x, y, weight, height):\n",
    "    if x + weight-1 >= grid.shape[0] or y +height-1 >= grid.shape[1]:\n",
    "        return False\n",
    "\n",
    "    submatrix = grid[x : x + weight, y : y + height]\n",
    "    return np.all(submatrix == 0)"
   ]
  },
  {
   "cell_type": "code",
   "execution_count": 3,
   "metadata": {},
   "outputs": [],
   "source": [
    "m = 10\n",
    "n = 10\n",
    "\n",
    "grid = np.zeros((m,n), dtype=int)\n",
    "\n",
    "# 在 (2, 3) 和 (3, 2) 的位置设置为1\n",
    "value = 1\n",
    "\n",
    "dx = 2\n",
    "dy = 3\n",
    "\n",
    "grid[2:2+dx,3:3+dy] = value\n",
    "grid[8:8+dx,2:2+dy] = value\n",
    "\n",
    "# 从 (0, 0) 开始进行广度优先搜索\n",
    "start = (2, 3)\n",
    "dX = np.array([5,2,2,1,1])\n",
    "dY = np.array([5,3,3,1,1])\n",
    "\n",
    "for i in range(len(dX)):\n",
    "    dx = dX[i]\n",
    "    dy = dY[i]\n",
    "    result = bfs(grid, start,dx,dy)\n",
    "    if(result == None ):\n",
    "        break\n",
    "\n",
    "    value += 1\n",
    "    x = result[0]\n",
    "    y = result[1]\n",
    "    grid[x:x+dx,y:y+dy] = value\n",
    "    start = result\n"
   ]
  },
  {
   "cell_type": "code",
   "execution_count": 4,
   "metadata": {},
   "outputs": [
    {
     "data": {
      "image/png": "[encoded data removed]",
      "text/plain": [
       "<Figure size 432x288 with 1 Axes>"
      ]
     },
     "metadata": {
      "needs_background": "light"
     },
     "output_type": "display_data"
    }
   ],
   "source": [
    "plt.imshow(grid)\n",
    "plt.show()"
   ]
  }
 ],
 "metadata": {
  "interpreter": {
   "hash": "5c7b89af1651d0b8571dde13640ecdccf7d5a6204171d6ab33e7c296e100e08a"
  },
  "kernelspec": {
   "display_name": "Python 3.11.0 64-bit",
   "language": "python",
   "name": "python3"
  },
  "language_info": {
   "codemirror_mode": {
    "name": "ipython",
    "version": 3
   },
   "file_extension": ".py",
   "mimetype": "text/x-python",
   "name": "python",
   "nbconvert_exporter": "python",
   "pygments_lexer": "ipython3",
   "version": "3.8.8"
  },
  "orig_nbformat": 4
 },
 "nbformat": 4,
 "nbformat_minor": 2
}
